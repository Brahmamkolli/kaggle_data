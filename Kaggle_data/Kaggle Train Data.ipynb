{
 "cells": [
  {
   "cell_type": "markdown",
   "id": "17884984-532c-4da2-9955-e037e33e0f42",
   "metadata": {},
   "source": [
    "# 1.Business Problem Understanding\n",
    "\n",
    "**How many people survived or not**"
   ]
  },
  {
   "cell_type": "code",
   "execution_count": 1,
   "id": "4af75ff0-56d2-47f5-84f7-fcd66321d1a9",
   "metadata": {},
   "outputs": [],
   "source": [
    "import numpy as np\n",
    "import pandas as pd\n",
    "import matplotlib.pyplot as plt\n",
    "import seaborn as sns"
   ]
  },
  {
   "cell_type": "markdown",
   "id": "90fef18d-c001-4e9e-9795-4fe4fdcf2978",
   "metadata": {},
   "source": [
    "# 2.Data Loading & Understanding"
   ]
  },
  {
   "cell_type": "code",
   "execution_count": 2,
   "id": "daba7058-d5e6-4a84-b9f5-aa8538f6b3e1",
   "metadata": {},
   "outputs": [
    {
     "data": {
      "text/html": [
       "<div>\n",
       "<style scoped>\n",
       "    .dataframe tbody tr th:only-of-type {\n",
       "        vertical-align: middle;\n",
       "    }\n",
       "\n",
       "    .dataframe tbody tr th {\n",
       "        vertical-align: top;\n",
       "    }\n",
       "\n",
       "    .dataframe thead th {\n",
       "        text-align: right;\n",
       "    }\n",
       "</style>\n",
       "<table border=\"1\" class=\"dataframe\">\n",
       "  <thead>\n",
       "    <tr style=\"text-align: right;\">\n",
       "      <th></th>\n",
       "      <th>PassengerId</th>\n",
       "      <th>Survived</th>\n",
       "      <th>Pclass</th>\n",
       "      <th>Name</th>\n",
       "      <th>Sex</th>\n",
       "      <th>Age</th>\n",
       "      <th>SibSp</th>\n",
       "      <th>Parch</th>\n",
       "      <th>Ticket</th>\n",
       "      <th>Fare</th>\n",
       "      <th>Cabin</th>\n",
       "      <th>Embarked</th>\n",
       "    </tr>\n",
       "  </thead>\n",
       "  <tbody>\n",
       "    <tr>\n",
       "      <th>0</th>\n",
       "      <td>1</td>\n",
       "      <td>0</td>\n",
       "      <td>3</td>\n",
       "      <td>Braund, Mr. Owen Harris</td>\n",
       "      <td>male</td>\n",
       "      <td>22.0</td>\n",
       "      <td>1</td>\n",
       "      <td>0</td>\n",
       "      <td>A/5 21171</td>\n",
       "      <td>7.2500</td>\n",
       "      <td>NaN</td>\n",
       "      <td>S</td>\n",
       "    </tr>\n",
       "    <tr>\n",
       "      <th>1</th>\n",
       "      <td>2</td>\n",
       "      <td>1</td>\n",
       "      <td>1</td>\n",
       "      <td>Cumings, Mrs. John Bradley (Florence Briggs Th...</td>\n",
       "      <td>female</td>\n",
       "      <td>38.0</td>\n",
       "      <td>1</td>\n",
       "      <td>0</td>\n",
       "      <td>PC 17599</td>\n",
       "      <td>71.2833</td>\n",
       "      <td>C85</td>\n",
       "      <td>C</td>\n",
       "    </tr>\n",
       "    <tr>\n",
       "      <th>2</th>\n",
       "      <td>3</td>\n",
       "      <td>1</td>\n",
       "      <td>3</td>\n",
       "      <td>Heikkinen, Miss. Laina</td>\n",
       "      <td>female</td>\n",
       "      <td>26.0</td>\n",
       "      <td>0</td>\n",
       "      <td>0</td>\n",
       "      <td>STON/O2. 3101282</td>\n",
       "      <td>7.9250</td>\n",
       "      <td>NaN</td>\n",
       "      <td>S</td>\n",
       "    </tr>\n",
       "    <tr>\n",
       "      <th>3</th>\n",
       "      <td>4</td>\n",
       "      <td>1</td>\n",
       "      <td>1</td>\n",
       "      <td>Futrelle, Mrs. Jacques Heath (Lily May Peel)</td>\n",
       "      <td>female</td>\n",
       "      <td>35.0</td>\n",
       "      <td>1</td>\n",
       "      <td>0</td>\n",
       "      <td>113803</td>\n",
       "      <td>53.1000</td>\n",
       "      <td>C123</td>\n",
       "      <td>S</td>\n",
       "    </tr>\n",
       "    <tr>\n",
       "      <th>4</th>\n",
       "      <td>5</td>\n",
       "      <td>0</td>\n",
       "      <td>3</td>\n",
       "      <td>Allen, Mr. William Henry</td>\n",
       "      <td>male</td>\n",
       "      <td>35.0</td>\n",
       "      <td>0</td>\n",
       "      <td>0</td>\n",
       "      <td>373450</td>\n",
       "      <td>8.0500</td>\n",
       "      <td>NaN</td>\n",
       "      <td>S</td>\n",
       "    </tr>\n",
       "  </tbody>\n",
       "</table>\n",
       "</div>"
      ],
      "text/plain": [
       "   PassengerId  Survived  Pclass  \\\n",
       "0            1         0       3   \n",
       "1            2         1       1   \n",
       "2            3         1       3   \n",
       "3            4         1       1   \n",
       "4            5         0       3   \n",
       "\n",
       "                                                Name     Sex   Age  SibSp  \\\n",
       "0                            Braund, Mr. Owen Harris    male  22.0      1   \n",
       "1  Cumings, Mrs. John Bradley (Florence Briggs Th...  female  38.0      1   \n",
       "2                             Heikkinen, Miss. Laina  female  26.0      0   \n",
       "3       Futrelle, Mrs. Jacques Heath (Lily May Peel)  female  35.0      1   \n",
       "4                           Allen, Mr. William Henry    male  35.0      0   \n",
       "\n",
       "   Parch            Ticket     Fare Cabin Embarked  \n",
       "0      0         A/5 21171   7.2500   NaN        S  \n",
       "1      0          PC 17599  71.2833   C85        C  \n",
       "2      0  STON/O2. 3101282   7.9250   NaN        S  \n",
       "3      0            113803  53.1000  C123        S  \n",
       "4      0            373450   8.0500   NaN        S  "
      ]
     },
     "execution_count": 2,
     "metadata": {},
     "output_type": "execute_result"
    }
   ],
   "source": [
    "df = pd.read_csv(r\"C:\\Users\\kolli\\OneDrive\\Documents\\kaggle\\train.csv\")\n",
    "df.head()"
   ]
  },
  {
   "cell_type": "code",
   "execution_count": 3,
   "id": "a89de6a0-af04-48c1-86bf-7eb86b2415e0",
   "metadata": {},
   "outputs": [
    {
     "data": {
      "text/plain": [
       "(891, 12)"
      ]
     },
     "execution_count": 3,
     "metadata": {},
     "output_type": "execute_result"
    }
   ],
   "source": [
    "df.shape"
   ]
  },
  {
   "cell_type": "code",
   "execution_count": 4,
   "id": "7d650fd4-7fd6-461a-b4fc-0f22b8898546",
   "metadata": {},
   "outputs": [
    {
     "data": {
      "text/plain": [
       "['PassengerId',\n",
       " 'Survived',\n",
       " 'Pclass',\n",
       " 'Name',\n",
       " 'Sex',\n",
       " 'Age',\n",
       " 'SibSp',\n",
       " 'Parch',\n",
       " 'Ticket',\n",
       " 'Fare',\n",
       " 'Cabin',\n",
       " 'Embarked']"
      ]
     },
     "execution_count": 4,
     "metadata": {},
     "output_type": "execute_result"
    }
   ],
   "source": [
    "df.columns.tolist()"
   ]
  },
  {
   "cell_type": "code",
   "execution_count": 5,
   "id": "6a05e6ac-0191-4359-8791-3416be2f787e",
   "metadata": {},
   "outputs": [
    {
     "data": {
      "text/plain": [
       "891"
      ]
     },
     "execution_count": 5,
     "metadata": {},
     "output_type": "execute_result"
    }
   ],
   "source": [
    "df['PassengerId'].nunique()"
   ]
  },
  {
   "cell_type": "code",
   "execution_count": 6,
   "id": "7b256384-8f65-4108-9e33-f602c3f520f7",
   "metadata": {},
   "outputs": [
    {
     "data": {
      "text/plain": [
       "array([0, 1])"
      ]
     },
     "execution_count": 6,
     "metadata": {},
     "output_type": "execute_result"
    }
   ],
   "source": [
    "df['Survived'].unique()"
   ]
  },
  {
   "cell_type": "code",
   "execution_count": 7,
   "id": "53ae41b1-6a69-4a61-8bf3-c239a92704aa",
   "metadata": {},
   "outputs": [
    {
     "data": {
      "text/plain": [
       "Survived\n",
       "0    549\n",
       "1    342\n",
       "Name: count, dtype: int64"
      ]
     },
     "execution_count": 7,
     "metadata": {},
     "output_type": "execute_result"
    }
   ],
   "source": [
    "df['Survived'].value_counts()"
   ]
  },
  {
   "cell_type": "code",
   "execution_count": 8,
   "id": "76549e9a-e351-4645-95d1-4321c5c5326f",
   "metadata": {},
   "outputs": [
    {
     "data": {
      "text/plain": [
       "array([3, 1, 2])"
      ]
     },
     "execution_count": 8,
     "metadata": {},
     "output_type": "execute_result"
    }
   ],
   "source": [
    "df['Pclass'].unique()"
   ]
  },
  {
   "cell_type": "code",
   "execution_count": 9,
   "id": "b45b370e-943c-4161-aaaf-e710c1108138",
   "metadata": {},
   "outputs": [
    {
     "data": {
      "text/plain": [
       "Pclass\n",
       "3    491\n",
       "1    216\n",
       "2    184\n",
       "Name: count, dtype: int64"
      ]
     },
     "execution_count": 9,
     "metadata": {},
     "output_type": "execute_result"
    }
   ],
   "source": [
    "df['Pclass'].value_counts()"
   ]
  },
  {
   "cell_type": "code",
   "execution_count": 10,
   "id": "e2deb464-9b25-45c3-8a2f-14077469de27",
   "metadata": {},
   "outputs": [
    {
     "data": {
      "text/plain": [
       "891"
      ]
     },
     "execution_count": 10,
     "metadata": {},
     "output_type": "execute_result"
    }
   ],
   "source": [
    "df['Name'].nunique()"
   ]
  },
  {
   "cell_type": "code",
   "execution_count": 11,
   "id": "33e8e90c-9cb8-41f6-a45e-a04a345bc8cc",
   "metadata": {},
   "outputs": [
    {
     "data": {
      "text/plain": [
       "array(['male', 'female'], dtype=object)"
      ]
     },
     "execution_count": 11,
     "metadata": {},
     "output_type": "execute_result"
    }
   ],
   "source": [
    "df['Sex'].unique()"
   ]
  },
  {
   "cell_type": "code",
   "execution_count": 12,
   "id": "20ca72ed-1fe2-4447-a074-959f54c67aca",
   "metadata": {},
   "outputs": [
    {
     "data": {
      "text/plain": [
       "Sex\n",
       "male      577\n",
       "female    314\n",
       "Name: count, dtype: int64"
      ]
     },
     "execution_count": 12,
     "metadata": {},
     "output_type": "execute_result"
    }
   ],
   "source": [
    "df['Sex'].value_counts()"
   ]
  },
  {
   "cell_type": "code",
   "execution_count": 13,
   "id": "dca26875-e365-4649-aad4-5fbd7768c5ee",
   "metadata": {},
   "outputs": [
    {
     "data": {
      "text/plain": [
       "array([22.  , 38.  , 26.  , 35.  ,   nan, 54.  ,  2.  , 27.  , 14.  ,\n",
       "        4.  , 58.  , 20.  , 39.  , 55.  , 31.  , 34.  , 15.  , 28.  ,\n",
       "        8.  , 19.  , 40.  , 66.  , 42.  , 21.  , 18.  ,  3.  ,  7.  ,\n",
       "       49.  , 29.  , 65.  , 28.5 ,  5.  , 11.  , 45.  , 17.  , 32.  ,\n",
       "       16.  , 25.  ,  0.83, 30.  , 33.  , 23.  , 24.  , 46.  , 59.  ,\n",
       "       71.  , 37.  , 47.  , 14.5 , 70.5 , 32.5 , 12.  ,  9.  , 36.5 ,\n",
       "       51.  , 55.5 , 40.5 , 44.  ,  1.  , 61.  , 56.  , 50.  , 36.  ,\n",
       "       45.5 , 20.5 , 62.  , 41.  , 52.  , 63.  , 23.5 ,  0.92, 43.  ,\n",
       "       60.  , 10.  , 64.  , 13.  , 48.  ,  0.75, 53.  , 57.  , 80.  ,\n",
       "       70.  , 24.5 ,  6.  ,  0.67, 30.5 ,  0.42, 34.5 , 74.  ])"
      ]
     },
     "execution_count": 13,
     "metadata": {},
     "output_type": "execute_result"
    }
   ],
   "source": [
    "df['Age'].unique()"
   ]
  },
  {
   "cell_type": "code",
   "execution_count": 14,
   "id": "c07b489d-d9fb-4f0a-bca7-2d589cf07276",
   "metadata": {},
   "outputs": [
    {
     "data": {
      "text/plain": [
       "array([1, 0, 3, 4, 2, 5, 8])"
      ]
     },
     "execution_count": 14,
     "metadata": {},
     "output_type": "execute_result"
    }
   ],
   "source": [
    "df['SibSp'].unique()"
   ]
  },
  {
   "cell_type": "code",
   "execution_count": 15,
   "id": "d4d4f207-00db-4e6f-b782-c426febf56e8",
   "metadata": {},
   "outputs": [
    {
     "data": {
      "text/plain": [
       "SibSp\n",
       "0    608\n",
       "1    209\n",
       "2     28\n",
       "4     18\n",
       "3     16\n",
       "8      7\n",
       "5      5\n",
       "Name: count, dtype: int64"
      ]
     },
     "execution_count": 15,
     "metadata": {},
     "output_type": "execute_result"
    }
   ],
   "source": [
    "df['SibSp'].value_counts()"
   ]
  },
  {
   "cell_type": "code",
   "execution_count": 16,
   "id": "a1e886a3-9ffd-479e-9f03-d662d1f6aca9",
   "metadata": {},
   "outputs": [
    {
     "data": {
      "text/plain": [
       "array([0, 1, 2, 5, 3, 4, 6])"
      ]
     },
     "execution_count": 16,
     "metadata": {},
     "output_type": "execute_result"
    }
   ],
   "source": [
    "df['Parch'].unique()"
   ]
  },
  {
   "cell_type": "code",
   "execution_count": 17,
   "id": "fa102297-9c2e-4c37-9500-38c7ab596245",
   "metadata": {},
   "outputs": [
    {
     "data": {
      "text/plain": [
       "681"
      ]
     },
     "execution_count": 17,
     "metadata": {},
     "output_type": "execute_result"
    }
   ],
   "source": [
    "df['Ticket'].nunique()"
   ]
  },
  {
   "cell_type": "code",
   "execution_count": 18,
   "id": "23c1ec42-2439-44ac-aa74-e72be2aecb28",
   "metadata": {},
   "outputs": [
    {
     "data": {
      "text/plain": [
       "248"
      ]
     },
     "execution_count": 18,
     "metadata": {},
     "output_type": "execute_result"
    }
   ],
   "source": [
    "df['Fare'].nunique()"
   ]
  },
  {
   "cell_type": "code",
   "execution_count": 19,
   "id": "3aa504df-271a-4b50-869c-b3c133a9ee41",
   "metadata": {},
   "outputs": [
    {
     "data": {
      "text/plain": [
       "147"
      ]
     },
     "execution_count": 19,
     "metadata": {},
     "output_type": "execute_result"
    }
   ],
   "source": [
    "df['Cabin'].nunique()"
   ]
  },
  {
   "cell_type": "code",
   "execution_count": 20,
   "id": "1f129b1b-7810-4b25-a809-89e1ec494791",
   "metadata": {},
   "outputs": [
    {
     "data": {
      "text/plain": [
       "array(['S', 'C', 'Q', nan], dtype=object)"
      ]
     },
     "execution_count": 20,
     "metadata": {},
     "output_type": "execute_result"
    }
   ],
   "source": [
    "df['Embarked'].unique()"
   ]
  },
  {
   "cell_type": "code",
   "execution_count": 21,
   "id": "81ab6214-245a-4eb3-8575-56ad97a80561",
   "metadata": {},
   "outputs": [
    {
     "data": {
      "text/plain": [
       "Embarked\n",
       "S    644\n",
       "C    168\n",
       "Q     77\n",
       "Name: count, dtype: int64"
      ]
     },
     "execution_count": 21,
     "metadata": {},
     "output_type": "execute_result"
    }
   ],
   "source": [
    "df['Embarked'].value_counts()"
   ]
  },
  {
   "cell_type": "code",
   "execution_count": 22,
   "id": "84e72d37-36f5-4161-8ad4-eed281a192ca",
   "metadata": {},
   "outputs": [
    {
     "data": {
      "text/plain": [
       "PassengerId      0\n",
       "Survived         0\n",
       "Pclass           0\n",
       "Name             0\n",
       "Sex              0\n",
       "Age            177\n",
       "SibSp            0\n",
       "Parch            0\n",
       "Ticket           0\n",
       "Fare             0\n",
       "Cabin          687\n",
       "Embarked         2\n",
       "dtype: int64"
      ]
     },
     "execution_count": 22,
     "metadata": {},
     "output_type": "execute_result"
    }
   ],
   "source": [
    "df.isnull().sum()"
   ]
  },
  {
   "cell_type": "code",
   "execution_count": 23,
   "id": "b1f2e623-2504-4140-9f74-55a46cdfa1c9",
   "metadata": {},
   "outputs": [
    {
     "data": {
      "text/plain": [
       "np.int64(0)"
      ]
     },
     "execution_count": 23,
     "metadata": {},
     "output_type": "execute_result"
    }
   ],
   "source": [
    "df.duplicated().sum()"
   ]
  },
  {
   "cell_type": "code",
   "execution_count": 24,
   "id": "189aafa1-2519-4a5e-9136-d3189d717087",
   "metadata": {},
   "outputs": [],
   "source": [
    "continious = ['Age', 'Fare']\n",
    "discrete_count = ['SibSp', 'Parch']\n",
    "categorical = ['Sex', 'Pclass', 'Embarked', 'Cabin', 'Ticket', 'Name', 'PassengerId', 'Survived']\n"
   ]
  },
  {
   "cell_type": "code",
   "execution_count": 25,
   "id": "678e2409-2cd3-4805-a102-1828c686a19e",
   "metadata": {},
   "outputs": [
    {
     "data": {
      "text/html": [
       "<div>\n",
       "<style scoped>\n",
       "    .dataframe tbody tr th:only-of-type {\n",
       "        vertical-align: middle;\n",
       "    }\n",
       "\n",
       "    .dataframe tbody tr th {\n",
       "        vertical-align: top;\n",
       "    }\n",
       "\n",
       "    .dataframe thead th {\n",
       "        text-align: right;\n",
       "    }\n",
       "</style>\n",
       "<table border=\"1\" class=\"dataframe\">\n",
       "  <thead>\n",
       "    <tr style=\"text-align: right;\">\n",
       "      <th></th>\n",
       "      <th>Age</th>\n",
       "      <th>Fare</th>\n",
       "    </tr>\n",
       "  </thead>\n",
       "  <tbody>\n",
       "    <tr>\n",
       "      <th>count</th>\n",
       "      <td>714.000000</td>\n",
       "      <td>891.000000</td>\n",
       "    </tr>\n",
       "    <tr>\n",
       "      <th>mean</th>\n",
       "      <td>29.699118</td>\n",
       "      <td>32.204208</td>\n",
       "    </tr>\n",
       "    <tr>\n",
       "      <th>std</th>\n",
       "      <td>14.526497</td>\n",
       "      <td>49.693429</td>\n",
       "    </tr>\n",
       "    <tr>\n",
       "      <th>min</th>\n",
       "      <td>0.420000</td>\n",
       "      <td>0.000000</td>\n",
       "    </tr>\n",
       "    <tr>\n",
       "      <th>25%</th>\n",
       "      <td>20.125000</td>\n",
       "      <td>7.910400</td>\n",
       "    </tr>\n",
       "    <tr>\n",
       "      <th>50%</th>\n",
       "      <td>28.000000</td>\n",
       "      <td>14.454200</td>\n",
       "    </tr>\n",
       "    <tr>\n",
       "      <th>75%</th>\n",
       "      <td>38.000000</td>\n",
       "      <td>31.000000</td>\n",
       "    </tr>\n",
       "    <tr>\n",
       "      <th>max</th>\n",
       "      <td>80.000000</td>\n",
       "      <td>512.329200</td>\n",
       "    </tr>\n",
       "  </tbody>\n",
       "</table>\n",
       "</div>"
      ],
      "text/plain": [
       "              Age        Fare\n",
       "count  714.000000  891.000000\n",
       "mean    29.699118   32.204208\n",
       "std     14.526497   49.693429\n",
       "min      0.420000    0.000000\n",
       "25%     20.125000    7.910400\n",
       "50%     28.000000   14.454200\n",
       "75%     38.000000   31.000000\n",
       "max     80.000000  512.329200"
      ]
     },
     "execution_count": 25,
     "metadata": {},
     "output_type": "execute_result"
    }
   ],
   "source": [
    "df[continious].describe()"
   ]
  },
  {
   "cell_type": "code",
   "execution_count": 26,
   "id": "117a587e-b84a-4f91-b0a8-c9063c8ea15b",
   "metadata": {},
   "outputs": [
    {
     "data": {
      "image/png": "[encoded data removed]",
      "text/plain": [
       "<Figure size 640x480 with 1 Axes>"
      ]
     },
     "metadata": {},
     "output_type": "display_data"
    }
   ],
   "source": [
    "sns.histplot(df[continious])\n",
    "plt.show()"
   ]
  },
  {
   "cell_type": "code",
   "execution_count": 27,
   "id": "19307aed-b05a-4f72-a3ed-4a0d12bfcd4a",
   "metadata": {},
   "outputs": [
    {
     "data": {
      "text/plain": [
       "Age     0.389108\n",
       "Fare    4.787317\n",
       "dtype: float64"
      ]
     },
     "execution_count": 27,
     "metadata": {},
     "output_type": "execute_result"
    }
   ],
   "source": [
    "df[continious].skew()"
   ]
  },
  {
   "cell_type": "code",
   "execution_count": 28,
   "id": "827545dd-ae2d-44c6-a1d4-b07cff0adfcf",
   "metadata": {},
   "outputs": [
    {
     "data": {
      "image/png": "[encoded data removed]",
      "text/plain": [
       "<Figure size 500x500 with 6 Axes>"
      ]
     },
     "metadata": {},
     "output_type": "display_data"
    }
   ],
   "source": [
    "sns.pairplot(df[continious])\n",
    "plt.show()"
   ]
  },
  {
   "cell_type": "code",
   "execution_count": 29,
   "id": "e35e5ffa-d903-465e-9203-ec0434f8289f",
   "metadata": {},
   "outputs": [
    {
     "data": {
      "image/png": "[encoded data removed]",
      "text/plain": [
       "<Figure size 640x480 with 2 Axes>"
      ]
     },
     "metadata": {},
     "output_type": "display_data"
    }
   ],
   "source": [
    "sns.heatmap(df[continious].corr(), annot = True, cmap = 'coolwarm')\n",
    "plt.show()"
   ]
  },
  {
   "cell_type": "code",
   "execution_count": 30,
   "id": "e78c6c4f-ba67-4735-91a3-6c8f1ea3351b",
   "metadata": {},
   "outputs": [
    {
     "data": {
      "image/png": "[encoded data removed]",
      "text/plain": [
       "<Figure size 640x480 with 1 Axes>"
      ]
     },
     "metadata": {},
     "output_type": "display_data"
    }
   ],
   "source": [
    "sns.boxplot(df[continious])\n",
    "plt.show()"
   ]
  },
  {
   "cell_type": "code",
   "execution_count": 31,
   "id": "cc621591-151e-46a4-8793-b85e21e4c642",
   "metadata": {},
   "outputs": [
    {
     "data": {
      "text/html": [
       "<div>\n",
       "<style scoped>\n",
       "    .dataframe tbody tr th:only-of-type {\n",
       "        vertical-align: middle;\n",
       "    }\n",
       "\n",
       "    .dataframe tbody tr th {\n",
       "        vertical-align: top;\n",
       "    }\n",
       "\n",
       "    .dataframe thead th {\n",
       "        text-align: right;\n",
       "    }\n",
       "</style>\n",
       "<table border=\"1\" class=\"dataframe\">\n",
       "  <thead>\n",
       "    <tr style=\"text-align: right;\">\n",
       "      <th></th>\n",
       "      <th>Sex</th>\n",
       "      <th>Embarked</th>\n",
       "      <th>Cabin</th>\n",
       "      <th>Ticket</th>\n",
       "      <th>Name</th>\n",
       "    </tr>\n",
       "  </thead>\n",
       "  <tbody>\n",
       "    <tr>\n",
       "      <th>count</th>\n",
       "      <td>891</td>\n",
       "      <td>889</td>\n",
       "      <td>204</td>\n",
       "      <td>891</td>\n",
       "      <td>891</td>\n",
       "    </tr>\n",
       "    <tr>\n",
       "      <th>unique</th>\n",
       "      <td>2</td>\n",
       "      <td>3</td>\n",
       "      <td>147</td>\n",
       "      <td>681</td>\n",
       "      <td>891</td>\n",
       "    </tr>\n",
       "    <tr>\n",
       "      <th>top</th>\n",
       "      <td>male</td>\n",
       "      <td>S</td>\n",
       "      <td>G6</td>\n",
       "      <td>347082</td>\n",
       "      <td>Dooley, Mr. Patrick</td>\n",
       "    </tr>\n",
       "    <tr>\n",
       "      <th>freq</th>\n",
       "      <td>577</td>\n",
       "      <td>644</td>\n",
       "      <td>4</td>\n",
       "      <td>7</td>\n",
       "      <td>1</td>\n",
       "    </tr>\n",
       "  </tbody>\n",
       "</table>\n",
       "</div>"
      ],
      "text/plain": [
       "         Sex Embarked Cabin  Ticket                 Name\n",
       "count    891      889   204     891                  891\n",
       "unique     2        3   147     681                  891\n",
       "top     male        S    G6  347082  Dooley, Mr. Patrick\n",
       "freq     577      644     4       7                    1"
      ]
     },
     "execution_count": 31,
     "metadata": {},
     "output_type": "execute_result"
    }
   ],
   "source": [
    "df[categorical].describe(include = 'object')"
   ]
  },
  {
   "cell_type": "code",
   "execution_count": 32,
   "id": "9360ad6d-1528-4e20-b303-bce5b5fcdcb9",
   "metadata": {},
   "outputs": [
    {
     "data": {
      "image/png": "[encoded data removed]",
      "text/plain": [
       "<Figure size 640x480 with 1 Axes>"
      ]
     },
     "metadata": {},
     "output_type": "display_data"
    }
   ],
   "source": [
    "sns.countplot(df[categorical])\n",
    "plt.show()"
   ]
  },
  {
   "cell_type": "code",
   "execution_count": 33,
   "id": "bd509202-6c04-4523-87f3-c9771c8c952c",
   "metadata": {},
   "outputs": [
    {
     "data": {
      "image/png": "[encoded data removed]",
      "text/plain": [
       "<Figure size 634x500 with 1 Axes>"
      ]
     },
     "metadata": {},
     "output_type": "display_data"
    }
   ],
   "source": [
    "sns.displot(df[categorical])\n",
    "plt.show()"
   ]
  },
  {
   "cell_type": "code",
   "execution_count": 34,
   "id": "2b32a8a9-ebfc-4cd5-a629-05fefb92de0b",
   "metadata": {},
   "outputs": [
    {
     "name": "stdout",
     "output_type": "stream",
     "text": [
      "<class 'pandas.core.frame.DataFrame'>\n",
      "RangeIndex: 891 entries, 0 to 890\n",
      "Data columns (total 12 columns):\n",
      " #   Column       Non-Null Count  Dtype  \n",
      "---  ------       --------------  -----  \n",
      " 0   PassengerId  891 non-null    int64  \n",
      " 1   Survived     891 non-null    int64  \n",
      " 2   Pclass       891 non-null    int64  \n",
      " 3   Name         891 non-null    object \n",
      " 4   Sex          891 non-null    object \n",
      " 5   Age          714 non-null    float64\n",
      " 6   SibSp        891 non-null    int64  \n",
      " 7   Parch        891 non-null    int64  \n",
      " 8   Ticket       891 non-null    object \n",
      " 9   Fare         891 non-null    float64\n",
      " 10  Cabin        204 non-null    object \n",
      " 11  Embarked     889 non-null    object \n",
      "dtypes: float64(2), int64(5), object(5)\n",
      "memory usage: 83.7+ KB\n"
     ]
    }
   ],
   "source": [
    "df.info()"
   ]
  },
  {
   "cell_type": "code",
   "execution_count": 35,
   "id": "6a64c33e-0004-447b-91cc-a30ca20da011",
   "metadata": {},
   "outputs": [],
   "source": [
    "continious = ['Age', 'Fare']\n",
    "discrete_count = ['SibSp', 'Parch']\n",
    "categorical = ['Sex', 'Pclass', 'Embarked', 'Cabin', 'Ticket', 'Name', 'PassengerId']\n"
   ]
  },
  {
   "cell_type": "markdown",
   "id": "d915c618-4d48-42d7-b01f-e2e4ce386200",
   "metadata": {},
   "source": [
    "# 3.Data Preprocessing"
   ]
  },
  {
   "cell_type": "markdown",
   "id": "2e1281ef-e26c-4c75-91fd-d801504baab8",
   "metadata": {},
   "source": [
    "**treat wrong data**"
   ]
  },
  {
   "cell_type": "code",
   "execution_count": 36,
   "id": "b073a284-0624-424f-bd39-4cc2cc42dba4",
   "metadata": {},
   "outputs": [
    {
     "data": {
      "text/html": [
       "<div>\n",
       "<style scoped>\n",
       "    .dataframe tbody tr th:only-of-type {\n",
       "        vertical-align: middle;\n",
       "    }\n",
       "\n",
       "    .dataframe tbody tr th {\n",
       "        vertical-align: top;\n",
       "    }\n",
       "\n",
       "    .dataframe thead th {\n",
       "        text-align: right;\n",
       "    }\n",
       "</style>\n",
       "<table border=\"1\" class=\"dataframe\">\n",
       "  <thead>\n",
       "    <tr style=\"text-align: right;\">\n",
       "      <th></th>\n",
       "      <th>PassengerId</th>\n",
       "      <th>Survived</th>\n",
       "      <th>Pclass</th>\n",
       "      <th>Name</th>\n",
       "      <th>Sex</th>\n",
       "      <th>Age</th>\n",
       "      <th>SibSp</th>\n",
       "      <th>Parch</th>\n",
       "      <th>Ticket</th>\n",
       "      <th>Fare</th>\n",
       "      <th>Cabin</th>\n",
       "      <th>Embarked</th>\n",
       "    </tr>\n",
       "  </thead>\n",
       "  <tbody>\n",
       "    <tr>\n",
       "      <th>0</th>\n",
       "      <td>1</td>\n",
       "      <td>0</td>\n",
       "      <td>3</td>\n",
       "      <td>Braund, Mr. Owen Harris</td>\n",
       "      <td>male</td>\n",
       "      <td>22.0</td>\n",
       "      <td>1</td>\n",
       "      <td>0</td>\n",
       "      <td>A/5 21171</td>\n",
       "      <td>7.2500</td>\n",
       "      <td>NaN</td>\n",
       "      <td>S</td>\n",
       "    </tr>\n",
       "    <tr>\n",
       "      <th>1</th>\n",
       "      <td>2</td>\n",
       "      <td>1</td>\n",
       "      <td>1</td>\n",
       "      <td>Cumings, Mrs. John Bradley (Florence Briggs Th...</td>\n",
       "      <td>female</td>\n",
       "      <td>38.0</td>\n",
       "      <td>1</td>\n",
       "      <td>0</td>\n",
       "      <td>PC 17599</td>\n",
       "      <td>71.2833</td>\n",
       "      <td>C85</td>\n",
       "      <td>C</td>\n",
       "    </tr>\n",
       "    <tr>\n",
       "      <th>2</th>\n",
       "      <td>3</td>\n",
       "      <td>1</td>\n",
       "      <td>3</td>\n",
       "      <td>Heikkinen, Miss. Laina</td>\n",
       "      <td>female</td>\n",
       "      <td>26.0</td>\n",
       "      <td>0</td>\n",
       "      <td>0</td>\n",
       "      <td>STON/O2. 3101282</td>\n",
       "      <td>7.9250</td>\n",
       "      <td>NaN</td>\n",
       "      <td>S</td>\n",
       "    </tr>\n",
       "    <tr>\n",
       "      <th>3</th>\n",
       "      <td>4</td>\n",
       "      <td>1</td>\n",
       "      <td>1</td>\n",
       "      <td>Futrelle, Mrs. Jacques Heath (Lily May Peel)</td>\n",
       "      <td>female</td>\n",
       "      <td>35.0</td>\n",
       "      <td>1</td>\n",
       "      <td>0</td>\n",
       "      <td>113803</td>\n",
       "      <td>53.1000</td>\n",
       "      <td>C123</td>\n",
       "      <td>S</td>\n",
       "    </tr>\n",
       "    <tr>\n",
       "      <th>4</th>\n",
       "      <td>5</td>\n",
       "      <td>0</td>\n",
       "      <td>3</td>\n",
       "      <td>Allen, Mr. William Henry</td>\n",
       "      <td>male</td>\n",
       "      <td>35.0</td>\n",
       "      <td>0</td>\n",
       "      <td>0</td>\n",
       "      <td>373450</td>\n",
       "      <td>8.0500</td>\n",
       "      <td>NaN</td>\n",
       "      <td>S</td>\n",
       "    </tr>\n",
       "    <tr>\n",
       "      <th>...</th>\n",
       "      <td>...</td>\n",
       "      <td>...</td>\n",
       "      <td>...</td>\n",
       "      <td>...</td>\n",
       "      <td>...</td>\n",
       "      <td>...</td>\n",
       "      <td>...</td>\n",
       "      <td>...</td>\n",
       "      <td>...</td>\n",
       "      <td>...</td>\n",
       "      <td>...</td>\n",
       "      <td>...</td>\n",
       "    </tr>\n",
       "    <tr>\n",
       "      <th>886</th>\n",
       "      <td>887</td>\n",
       "      <td>0</td>\n",
       "      <td>2</td>\n",
       "      <td>Montvila, Rev. Juozas</td>\n",
       "      <td>male</td>\n",
       "      <td>27.0</td>\n",
       "      <td>0</td>\n",
       "      <td>0</td>\n",
       "      <td>211536</td>\n",
       "      <td>13.0000</td>\n",
       "      <td>NaN</td>\n",
       "      <td>S</td>\n",
       "    </tr>\n",
       "    <tr>\n",
       "      <th>887</th>\n",
       "      <td>888</td>\n",
       "      <td>1</td>\n",
       "      <td>1</td>\n",
       "      <td>Graham, Miss. Margaret Edith</td>\n",
       "      <td>female</td>\n",
       "      <td>19.0</td>\n",
       "      <td>0</td>\n",
       "      <td>0</td>\n",
       "      <td>112053</td>\n",
       "      <td>30.0000</td>\n",
       "      <td>B42</td>\n",
       "      <td>S</td>\n",
       "    </tr>\n",
       "    <tr>\n",
       "      <th>888</th>\n",
       "      <td>889</td>\n",
       "      <td>0</td>\n",
       "      <td>3</td>\n",
       "      <td>Johnston, Miss. Catherine Helen \"Carrie\"</td>\n",
       "      <td>female</td>\n",
       "      <td>NaN</td>\n",
       "      <td>1</td>\n",
       "      <td>2</td>\n",
       "      <td>W./C. 6607</td>\n",
       "      <td>23.4500</td>\n",
       "      <td>NaN</td>\n",
       "      <td>S</td>\n",
       "    </tr>\n",
       "    <tr>\n",
       "      <th>889</th>\n",
       "      <td>890</td>\n",
       "      <td>1</td>\n",
       "      <td>1</td>\n",
       "      <td>Behr, Mr. Karl Howell</td>\n",
       "      <td>male</td>\n",
       "      <td>26.0</td>\n",
       "      <td>0</td>\n",
       "      <td>0</td>\n",
       "      <td>111369</td>\n",
       "      <td>30.0000</td>\n",
       "      <td>C148</td>\n",
       "      <td>C</td>\n",
       "    </tr>\n",
       "    <tr>\n",
       "      <th>890</th>\n",
       "      <td>891</td>\n",
       "      <td>0</td>\n",
       "      <td>3</td>\n",
       "      <td>Dooley, Mr. Patrick</td>\n",
       "      <td>male</td>\n",
       "      <td>32.0</td>\n",
       "      <td>0</td>\n",
       "      <td>0</td>\n",
       "      <td>370376</td>\n",
       "      <td>7.7500</td>\n",
       "      <td>NaN</td>\n",
       "      <td>Q</td>\n",
       "    </tr>\n",
       "  </tbody>\n",
       "</table>\n",
       "<p>891 rows × 12 columns</p>\n",
       "</div>"
      ],
      "text/plain": [
       "     PassengerId  Survived  Pclass  \\\n",
       "0              1         0       3   \n",
       "1              2         1       1   \n",
       "2              3         1       3   \n",
       "3              4         1       1   \n",
       "4              5         0       3   \n",
       "..           ...       ...     ...   \n",
       "886          887         0       2   \n",
       "887          888         1       1   \n",
       "888          889         0       3   \n",
       "889          890         1       1   \n",
       "890          891         0       3   \n",
       "\n",
       "                                                  Name     Sex   Age  SibSp  \\\n",
       "0                              Braund, Mr. Owen Harris    male  22.0      1   \n",
       "1    Cumings, Mrs. John Bradley (Florence Briggs Th...  female  38.0      1   \n",
       "2                               Heikkinen, Miss. Laina  female  26.0      0   \n",
       "3         Futrelle, Mrs. Jacques Heath (Lily May Peel)  female  35.0      1   \n",
       "4                             Allen, Mr. William Henry    male  35.0      0   \n",
       "..                                                 ...     ...   ...    ...   \n",
       "886                              Montvila, Rev. Juozas    male  27.0      0   \n",
       "887                       Graham, Miss. Margaret Edith  female  19.0      0   \n",
       "888           Johnston, Miss. Catherine Helen \"Carrie\"  female   NaN      1   \n",
       "889                              Behr, Mr. Karl Howell    male  26.0      0   \n",
       "890                                Dooley, Mr. Patrick    male  32.0      0   \n",
       "\n",
       "     Parch            Ticket     Fare Cabin Embarked  \n",
       "0        0         A/5 21171   7.2500   NaN        S  \n",
       "1        0          PC 17599  71.2833   C85        C  \n",
       "2        0  STON/O2. 3101282   7.9250   NaN        S  \n",
       "3        0            113803  53.1000  C123        S  \n",
       "4        0            373450   8.0500   NaN        S  \n",
       "..     ...               ...      ...   ...      ...  \n",
       "886      0            211536  13.0000   NaN        S  \n",
       "887      0            112053  30.0000   B42        S  \n",
       "888      2        W./C. 6607  23.4500   NaN        S  \n",
       "889      0            111369  30.0000  C148        C  \n",
       "890      0            370376   7.7500   NaN        Q  \n",
       "\n",
       "[891 rows x 12 columns]"
      ]
     },
     "execution_count": 36,
     "metadata": {},
     "output_type": "execute_result"
    }
   ],
   "source": [
    "df"
   ]
  },
  {
   "cell_type": "code",
   "execution_count": 37,
   "id": "8a3c5efb-c387-4ed4-aafa-ca8218ddc215",
   "metadata": {},
   "outputs": [],
   "source": [
    "# Extract titles using regex\n",
    "df['Name'] = df['Name'].str.extract(' ([A-Za-z]+)\\.', expand=False)\n",
    "\n",
    "# Optional: Group rare titles under 'Rare'\n",
    "df['Name'] = df['Name'].replace(['Lady', 'Countess','Capt', 'Col', 'Don', \n",
    "                                 'Dr', 'Major', 'Rev', 'Sir', 'Jonkheer', 'Dona'], 'Rare')\n",
    "\n",
    "# Optional: Normalize some variations\n",
    "df['Name'] = df['Name'].replace({'Mlle': 'Miss', 'Ms': 'Miss', 'Mme': 'Mrs'})\n"
   ]
  },
  {
   "cell_type": "markdown",
   "id": "d84283a9-2927-4301-b6e4-15a8b41d05f2",
   "metadata": {},
   "source": [
    "**treat wrong data type**"
   ]
  },
  {
   "cell_type": "code",
   "execution_count": 38,
   "id": "7fb03c11-1b1b-439e-89f7-4673a4385ccf",
   "metadata": {},
   "outputs": [
    {
     "data": {
      "text/plain": [
       "PassengerId      int64\n",
       "Survived         int64\n",
       "Pclass           int64\n",
       "Name            object\n",
       "Sex             object\n",
       "Age            float64\n",
       "SibSp            int64\n",
       "Parch            int64\n",
       "Ticket          object\n",
       "Fare           float64\n",
       "Cabin           object\n",
       "Embarked        object\n",
       "dtype: object"
      ]
     },
     "execution_count": 38,
     "metadata": {},
     "output_type": "execute_result"
    }
   ],
   "source": [
    "df.dtypes"
   ]
  },
  {
   "cell_type": "markdown",
   "id": "1ac7cffd-d703-4075-b2b2-abe7cdb62b97",
   "metadata": {},
   "source": [
    "**handling null values**"
   ]
  },
  {
   "cell_type": "code",
   "execution_count": 39,
   "id": "aeeb1c65-07f5-4549-abbd-7ccb5ed7f8b3",
   "metadata": {},
   "outputs": [
    {
     "data": {
      "text/plain": [
       "PassengerId      0\n",
       "Survived         0\n",
       "Pclass           0\n",
       "Name             0\n",
       "Sex              0\n",
       "Age            177\n",
       "SibSp            0\n",
       "Parch            0\n",
       "Ticket           0\n",
       "Fare             0\n",
       "Cabin          687\n",
       "Embarked         2\n",
       "dtype: int64"
      ]
     },
     "execution_count": 39,
     "metadata": {},
     "output_type": "execute_result"
    }
   ],
   "source": [
    "df.isnull().sum()"
   ]
  },
  {
   "cell_type": "code",
   "execution_count": 40,
   "id": "e2e0c933-ac96-42fe-a45c-bb2611a85c45",
   "metadata": {},
   "outputs": [],
   "source": [
    "# Fill missing Age with median (Age is numeric and has outliers)\n",
    "df['Age']= df['Age'].fillna(df['Age'].median())\n",
    "\n",
    "# Fill missing Embarked with mode (most frequent)\n",
    "df['Embarked'] = df['Embarked'].fillna(df['Embarked'].mode()[0])\n",
    "\n",
    "# Create a new binary feature: HasCabin (1 = yes, 0 = no)\n",
    "df['HasCabin'] = df['Cabin'].notnull().astype(int)\n"
   ]
  },
  {
   "cell_type": "markdown",
   "id": "c8fb3758-cdc1-46ab-a7e1-6248896bfaed",
   "metadata": {},
   "source": [
    "**Treat Duplicates**"
   ]
  },
  {
   "cell_type": "code",
   "execution_count": 41,
   "id": "a25b0c47-5ece-441e-b175-40cbe2ef2221",
   "metadata": {},
   "outputs": [
    {
     "data": {
      "text/plain": [
       "np.int64(0)"
      ]
     },
     "execution_count": 41,
     "metadata": {},
     "output_type": "execute_result"
    }
   ],
   "source": [
    "df.duplicated().sum()"
   ]
  },
  {
   "cell_type": "markdown",
   "id": "696cc7ad-c94a-4d36-890a-f66d348a82c8",
   "metadata": {},
   "source": [
    "**treat Outliers**"
   ]
  },
  {
   "cell_type": "code",
   "execution_count": 42,
   "id": "1843df55-e12d-448c-a004-421dc82da032",
   "metadata": {},
   "outputs": [
    {
     "data": {
      "image/png": "[encoded data removed]",
      "text/plain": [
       "<Figure size 640x480 with 1 Axes>"
      ]
     },
     "metadata": {},
     "output_type": "display_data"
    }
   ],
   "source": [
    "sns.boxplot(df[continious])\n",
    "plt.show()"
   ]
  },
  {
   "cell_type": "code",
   "execution_count": 43,
   "id": "d2b9f9d6-d9b3-4fdd-aa0f-e662176e5e76",
   "metadata": {},
   "outputs": [],
   "source": [
    "def treat_outliers_iqr(col):\n",
    "    Q1 = df[col].quantile(0.25)\n",
    "    Q3 = df[col].quantile(0.75)\n",
    "    IQR = Q3 - Q1\n",
    "    lower_bound = Q1 - 1.5 * IQR\n",
    "    upper_bound = Q3 + 1.5 * IQR\n",
    "\n",
    "    # Cap outliers\n",
    "    df[col] = np.where(df[col] > upper_bound, upper_bound,\n",
    "                       np.where(df[col] < lower_bound, lower_bound, df[col]))\n",
    "\n",
    "# Apply only to continuous features\n",
    "for col in ['Age', 'Fare']:\n",
    "    treat_outliers_iqr(col)\n"
   ]
  },
  {
   "cell_type": "markdown",
   "id": "f1a87de2-37be-4b2e-b3c0-7abaec164193",
   "metadata": {},
   "source": [
    "**Removing the columns not useful for prediction**"
   ]
  },
  {
   "cell_type": "code",
   "execution_count": 44,
   "id": "540cbb54-4481-45b6-bf01-2ea1ab4b26ab",
   "metadata": {},
   "outputs": [
    {
     "data": {
      "text/html": [
       "<div>\n",
       "<style scoped>\n",
       "    .dataframe tbody tr th:only-of-type {\n",
       "        vertical-align: middle;\n",
       "    }\n",
       "\n",
       "    .dataframe tbody tr th {\n",
       "        vertical-align: top;\n",
       "    }\n",
       "\n",
       "    .dataframe thead th {\n",
       "        text-align: right;\n",
       "    }\n",
       "</style>\n",
       "<table border=\"1\" class=\"dataframe\">\n",
       "  <thead>\n",
       "    <tr style=\"text-align: right;\">\n",
       "      <th></th>\n",
       "      <th>Survived</th>\n",
       "      <th>Pclass</th>\n",
       "      <th>Sex</th>\n",
       "      <th>Age</th>\n",
       "      <th>SibSp</th>\n",
       "      <th>Parch</th>\n",
       "      <th>Fare</th>\n",
       "      <th>Embarked</th>\n",
       "      <th>HasCabin</th>\n",
       "    </tr>\n",
       "  </thead>\n",
       "  <tbody>\n",
       "    <tr>\n",
       "      <th>0</th>\n",
       "      <td>0</td>\n",
       "      <td>3</td>\n",
       "      <td>male</td>\n",
       "      <td>22.0</td>\n",
       "      <td>1</td>\n",
       "      <td>0</td>\n",
       "      <td>7.2500</td>\n",
       "      <td>S</td>\n",
       "      <td>0</td>\n",
       "    </tr>\n",
       "    <tr>\n",
       "      <th>1</th>\n",
       "      <td>1</td>\n",
       "      <td>1</td>\n",
       "      <td>female</td>\n",
       "      <td>38.0</td>\n",
       "      <td>1</td>\n",
       "      <td>0</td>\n",
       "      <td>65.6344</td>\n",
       "      <td>C</td>\n",
       "      <td>1</td>\n",
       "    </tr>\n",
       "    <tr>\n",
       "      <th>2</th>\n",
       "      <td>1</td>\n",
       "      <td>3</td>\n",
       "      <td>female</td>\n",
       "      <td>26.0</td>\n",
       "      <td>0</td>\n",
       "      <td>0</td>\n",
       "      <td>7.9250</td>\n",
       "      <td>S</td>\n",
       "      <td>0</td>\n",
       "    </tr>\n",
       "    <tr>\n",
       "      <th>3</th>\n",
       "      <td>1</td>\n",
       "      <td>1</td>\n",
       "      <td>female</td>\n",
       "      <td>35.0</td>\n",
       "      <td>1</td>\n",
       "      <td>0</td>\n",
       "      <td>53.1000</td>\n",
       "      <td>S</td>\n",
       "      <td>1</td>\n",
       "    </tr>\n",
       "    <tr>\n",
       "      <th>4</th>\n",
       "      <td>0</td>\n",
       "      <td>3</td>\n",
       "      <td>male</td>\n",
       "      <td>35.0</td>\n",
       "      <td>0</td>\n",
       "      <td>0</td>\n",
       "      <td>8.0500</td>\n",
       "      <td>S</td>\n",
       "      <td>0</td>\n",
       "    </tr>\n",
       "  </tbody>\n",
       "</table>\n",
       "</div>"
      ],
      "text/plain": [
       "   Survived  Pclass     Sex   Age  SibSp  Parch     Fare Embarked  HasCabin\n",
       "0         0       3    male  22.0      1      0   7.2500        S         0\n",
       "1         1       1  female  38.0      1      0  65.6344        C         1\n",
       "2         1       3  female  26.0      0      0   7.9250        S         0\n",
       "3         1       1  female  35.0      1      0  53.1000        S         1\n",
       "4         0       3    male  35.0      0      0   8.0500        S         0"
      ]
     },
     "execution_count": 44,
     "metadata": {},
     "output_type": "execute_result"
    }
   ],
   "source": [
    "df.drop(['PassengerId','Name','Ticket','Cabin'],axis=1,inplace=True)\n",
    "df.head()"
   ]
  },
  {
   "cell_type": "code",
   "execution_count": 45,
   "id": "19492ebe-49e3-46a4-a1f9-7ffef3694a22",
   "metadata": {},
   "outputs": [],
   "source": [
    "# Create 'FamilySize' from SibSp and Parch\n",
    "df['FamilySize'] = df['SibSp'] + df['Parch'] + 1"
   ]
  },
  {
   "cell_type": "code",
   "execution_count": 46,
   "id": "90e64a1a-e2b0-4831-bf51-96bd8864d3df",
   "metadata": {},
   "outputs": [
    {
     "name": "stderr",
     "output_type": "stream",
     "text": [
      "C:\\Users\\kolli\\AppData\\Local\\Temp\\ipykernel_6356\\171491984.py:3: FutureWarning: ChainedAssignmentError: behaviour will change in pandas 3.0!\n",
      "You are setting values through chained assignment. Currently this works in certain cases, but when using Copy-on-Write (which will become the default behaviour in pandas 3.0) this will never work to update the original DataFrame or Series, because the intermediate object on which we are setting values will behave as a copy.\n",
      "A typical example is when you are setting values in a column of a DataFrame, like:\n",
      "\n",
      "df[\"col\"][row_indexer] = value\n",
      "\n",
      "Use `df.loc[row_indexer, \"col\"] = values` instead, to perform the assignment in a single step and ensure this keeps updating the original `df`.\n",
      "\n",
      "See the caveats in the documentation: https://pandas.pydata.org/pandas-docs/stable/user_guide/indexing.html#returning-a-view-versus-a-copy\n",
      "\n",
      "  df['IsAlone'].loc[df['FamilySize'] > 1] = 0  # If with family, not alone\n",
      "C:\\Users\\kolli\\AppData\\Local\\Temp\\ipykernel_6356\\171491984.py:3: SettingWithCopyWarning: \n",
      "A value is trying to be set on a copy of a slice from a DataFrame\n",
      "\n",
      "See the caveats in the documentation: https://pandas.pydata.org/pandas-docs/stable/user_guide/indexing.html#returning-a-view-versus-a-copy\n",
      "  df['IsAlone'].loc[df['FamilySize'] > 1] = 0  # If with family, not alone\n"
     ]
    }
   ],
   "source": [
    "# Create 'IsAlone' feature\n",
    "df['IsAlone'] = 1  # Initialize to alone\n",
    "df['IsAlone'].loc[df['FamilySize'] > 1] = 0  # If with family, not alone"
   ]
  },
  {
   "cell_type": "code",
   "execution_count": 47,
   "id": "c5189c03-9b22-412d-bac2-63b20d6470fe",
   "metadata": {},
   "outputs": [],
   "source": [
    "# Drop SibSp and Parch as they’re represented in FamilySize\n",
    "df.drop(['SibSp', 'Parch'], axis=1, inplace=True)"
   ]
  },
  {
   "cell_type": "markdown",
   "id": "9b2a1b78-95dd-4e67-9396-f5867a9cb198",
   "metadata": {},
   "source": [
    "**Feature Transformation**"
   ]
  },
  {
   "cell_type": "code",
   "execution_count": 48,
   "id": "ba444d8c-8f11-4627-abe8-bf2a130b42b5",
   "metadata": {},
   "outputs": [
    {
     "data": {
      "text/plain": [
       "np.float64(-0.2378769041514196)"
      ]
     },
     "execution_count": 48,
     "metadata": {},
     "output_type": "execute_result"
    }
   ],
   "source": [
    "df['Fare_log'] = np.log1p(df['Fare'])  # log(1 + Fare) to avoid log(0)\n",
    "df['Fare_log'].skew()"
   ]
  },
  {
   "cell_type": "code",
   "execution_count": 49,
   "id": "c6cb6573-6b0e-4e83-b730-8219541935b5",
   "metadata": {},
   "outputs": [
    {
     "data": {
      "text/plain": [
       "['boxcox_params.pkl']"
      ]
     },
     "execution_count": 49,
     "metadata": {},
     "output_type": "execute_result"
    }
   ],
   "source": [
    "from scipy.stats import boxcox\n",
    "import joblib\n",
    "\n",
    "# Calculate shift if needed\n",
    "min_train = df['Fare'].min()\n",
    "shift = abs(min_train) + 1e-6 if min_train <= 0 else 0\n",
    "df['Fare_shifted'] = df['Fare'] + shift\n",
    "\n",
    "# Fit boxcox\n",
    "df['Fare_boxcox'], fare_lambda = boxcox(df['Fare_shifted'])\n",
    "\n",
    "# Save parameters\n",
    "joblib.dump({'fare_lambda': fare_lambda, 'shift': shift}, 'boxcox_params.pkl')"
   ]
  },
  {
   "cell_type": "code",
   "execution_count": 50,
   "id": "7c3b6090-c125-41f5-aa7b-c0afb4e5b0e1",
   "metadata": {},
   "outputs": [
    {
     "data": {
      "text/plain": [
       "np.float64(1.082178592000912)"
      ]
     },
     "execution_count": 50,
     "metadata": {},
     "output_type": "execute_result"
    }
   ],
   "source": [
    "df['Fare_sqr'] = df['Fare'] * (1/4)\n",
    "df['Fare_sqr'].skew()"
   ]
  },
  {
   "cell_type": "code",
   "execution_count": 51,
   "id": "4f822889-6140-41ad-9adf-2a597df15f0e",
   "metadata": {},
   "outputs": [
    {
     "data": {
      "text/plain": [
       "np.float64(-0.8193044103755684)"
      ]
     },
     "execution_count": 51,
     "metadata": {},
     "output_type": "execute_result"
    }
   ],
   "source": [
    "df['Age_log'] = np.sqrt(df['Age'])\n",
    "df['Age_log'].skew()"
   ]
  },
  {
   "cell_type": "code",
   "execution_count": 52,
   "id": "66f60ffd-51a6-47f3-bc09-9fb754f7c3e4",
   "metadata": {},
   "outputs": [
    {
     "data": {
      "text/plain": [
       "np.float64(0.16443559235787567)"
      ]
     },
     "execution_count": 52,
     "metadata": {},
     "output_type": "execute_result"
    }
   ],
   "source": [
    "df['Age_sqr'] = df['Age'] * (1/4)\n",
    "df['Age_sqr'].skew()"
   ]
  },
  {
   "cell_type": "code",
   "execution_count": 53,
   "id": "4dae769e-366b-4fc3-8096-5b3c525200fa",
   "metadata": {},
   "outputs": [
    {
     "data": {
      "text/plain": [
       "np.float64(-0.001276359101923715)"
      ]
     },
     "execution_count": 53,
     "metadata": {},
     "output_type": "execute_result"
    }
   ],
   "source": [
    "df['Age_boxcox'], _ = boxcox(df['Age'] + 1)  # Add 1 to avoid zero\n",
    "df['Age_boxcox'].skew()"
   ]
  },
  {
   "cell_type": "code",
   "execution_count": 54,
   "id": "401f5334-b6a9-448c-9756-d8fc5c452e82",
   "metadata": {},
   "outputs": [],
   "source": [
    "df = df.drop(columns = ['Fare_log', 'Fare_sqr', 'Age_log', 'Age_sqr'], axis = 1)"
   ]
  },
  {
   "cell_type": "code",
   "execution_count": 55,
   "id": "f18babe5-0169-4e14-b349-e60b278be47d",
   "metadata": {},
   "outputs": [],
   "source": [
    "df = df.drop(columns = ['Age', 'Fare'], axis = 1)"
   ]
  },
  {
   "cell_type": "code",
   "execution_count": 56,
   "id": "af8a650d-030f-48d1-a811-51600cbf2b66",
   "metadata": {},
   "outputs": [
    {
     "data": {
      "text/html": [
       "<div>\n",
       "<style scoped>\n",
       "    .dataframe tbody tr th:only-of-type {\n",
       "        vertical-align: middle;\n",
       "    }\n",
       "\n",
       "    .dataframe tbody tr th {\n",
       "        vertical-align: top;\n",
       "    }\n",
       "\n",
       "    .dataframe thead th {\n",
       "        text-align: right;\n",
       "    }\n",
       "</style>\n",
       "<table border=\"1\" class=\"dataframe\">\n",
       "  <thead>\n",
       "    <tr style=\"text-align: right;\">\n",
       "      <th></th>\n",
       "      <th>Survived</th>\n",
       "      <th>Pclass</th>\n",
       "      <th>Sex</th>\n",
       "      <th>Embarked</th>\n",
       "      <th>HasCabin</th>\n",
       "      <th>FamilySize</th>\n",
       "      <th>IsAlone</th>\n",
       "      <th>Fare_shifted</th>\n",
       "      <th>Fare_boxcox</th>\n",
       "      <th>Age_boxcox</th>\n",
       "    </tr>\n",
       "  </thead>\n",
       "  <tbody>\n",
       "    <tr>\n",
       "      <th>0</th>\n",
       "      <td>0</td>\n",
       "      <td>3</td>\n",
       "      <td>male</td>\n",
       "      <td>S</td>\n",
       "      <td>0</td>\n",
       "      <td>2</td>\n",
       "      <td>0</td>\n",
       "      <td>7.250001</td>\n",
       "      <td>2.778233</td>\n",
       "      <td>17.362087</td>\n",
       "    </tr>\n",
       "    <tr>\n",
       "      <th>1</th>\n",
       "      <td>1</td>\n",
       "      <td>1</td>\n",
       "      <td>female</td>\n",
       "      <td>C</td>\n",
       "      <td>1</td>\n",
       "      <td>2</td>\n",
       "      <td>0</td>\n",
       "      <td>65.634401</td>\n",
       "      <td>8.890455</td>\n",
       "      <td>28.523329</td>\n",
       "    </tr>\n",
       "    <tr>\n",
       "      <th>2</th>\n",
       "      <td>1</td>\n",
       "      <td>3</td>\n",
       "      <td>female</td>\n",
       "      <td>S</td>\n",
       "      <td>0</td>\n",
       "      <td>1</td>\n",
       "      <td>1</td>\n",
       "      <td>7.925001</td>\n",
       "      <td>2.949892</td>\n",
       "      <td>20.212889</td>\n",
       "    </tr>\n",
       "    <tr>\n",
       "      <th>3</th>\n",
       "      <td>1</td>\n",
       "      <td>1</td>\n",
       "      <td>female</td>\n",
       "      <td>S</td>\n",
       "      <td>1</td>\n",
       "      <td>2</td>\n",
       "      <td>0</td>\n",
       "      <td>53.100001</td>\n",
       "      <td>8.095393</td>\n",
       "      <td>26.474751</td>\n",
       "    </tr>\n",
       "    <tr>\n",
       "      <th>4</th>\n",
       "      <td>0</td>\n",
       "      <td>3</td>\n",
       "      <td>male</td>\n",
       "      <td>S</td>\n",
       "      <td>0</td>\n",
       "      <td>1</td>\n",
       "      <td>1</td>\n",
       "      <td>8.050001</td>\n",
       "      <td>2.980585</td>\n",
       "      <td>26.474751</td>\n",
       "    </tr>\n",
       "    <tr>\n",
       "      <th>...</th>\n",
       "      <td>...</td>\n",
       "      <td>...</td>\n",
       "      <td>...</td>\n",
       "      <td>...</td>\n",
       "      <td>...</td>\n",
       "      <td>...</td>\n",
       "      <td>...</td>\n",
       "      <td>...</td>\n",
       "      <td>...</td>\n",
       "      <td>...</td>\n",
       "    </tr>\n",
       "    <tr>\n",
       "      <th>886</th>\n",
       "      <td>0</td>\n",
       "      <td>2</td>\n",
       "      <td>male</td>\n",
       "      <td>S</td>\n",
       "      <td>0</td>\n",
       "      <td>1</td>\n",
       "      <td>1</td>\n",
       "      <td>13.000001</td>\n",
       "      <td>4.000093</td>\n",
       "      <td>20.918392</td>\n",
       "    </tr>\n",
       "    <tr>\n",
       "      <th>887</th>\n",
       "      <td>1</td>\n",
       "      <td>1</td>\n",
       "      <td>female</td>\n",
       "      <td>S</td>\n",
       "      <td>1</td>\n",
       "      <td>1</td>\n",
       "      <td>1</td>\n",
       "      <td>30.000001</td>\n",
       "      <td>6.206237</td>\n",
       "      <td>15.189836</td>\n",
       "    </tr>\n",
       "    <tr>\n",
       "      <th>888</th>\n",
       "      <td>0</td>\n",
       "      <td>3</td>\n",
       "      <td>female</td>\n",
       "      <td>S</td>\n",
       "      <td>0</td>\n",
       "      <td>4</td>\n",
       "      <td>0</td>\n",
       "      <td>23.450001</td>\n",
       "      <td>5.493182</td>\n",
       "      <td>21.621247</td>\n",
       "    </tr>\n",
       "    <tr>\n",
       "      <th>889</th>\n",
       "      <td>1</td>\n",
       "      <td>1</td>\n",
       "      <td>male</td>\n",
       "      <td>C</td>\n",
       "      <td>1</td>\n",
       "      <td>1</td>\n",
       "      <td>1</td>\n",
       "      <td>30.000001</td>\n",
       "      <td>6.206237</td>\n",
       "      <td>20.212889</td>\n",
       "    </tr>\n",
       "    <tr>\n",
       "      <th>890</th>\n",
       "      <td>0</td>\n",
       "      <td>3</td>\n",
       "      <td>male</td>\n",
       "      <td>Q</td>\n",
       "      <td>0</td>\n",
       "      <td>1</td>\n",
       "      <td>1</td>\n",
       "      <td>7.750001</td>\n",
       "      <td>2.906368</td>\n",
       "      <td>24.408103</td>\n",
       "    </tr>\n",
       "  </tbody>\n",
       "</table>\n",
       "<p>891 rows × 10 columns</p>\n",
       "</div>"
      ],
      "text/plain": [
       "     Survived  Pclass     Sex Embarked  HasCabin  FamilySize  IsAlone  \\\n",
       "0           0       3    male        S         0           2        0   \n",
       "1           1       1  female        C         1           2        0   \n",
       "2           1       3  female        S         0           1        1   \n",
       "3           1       1  female        S         1           2        0   \n",
       "4           0       3    male        S         0           1        1   \n",
       "..        ...     ...     ...      ...       ...         ...      ...   \n",
       "886         0       2    male        S         0           1        1   \n",
       "887         1       1  female        S         1           1        1   \n",
       "888         0       3  female        S         0           4        0   \n",
       "889         1       1    male        C         1           1        1   \n",
       "890         0       3    male        Q         0           1        1   \n",
       "\n",
       "     Fare_shifted  Fare_boxcox  Age_boxcox  \n",
       "0        7.250001     2.778233   17.362087  \n",
       "1       65.634401     8.890455   28.523329  \n",
       "2        7.925001     2.949892   20.212889  \n",
       "3       53.100001     8.095393   26.474751  \n",
       "4        8.050001     2.980585   26.474751  \n",
       "..            ...          ...         ...  \n",
       "886     13.000001     4.000093   20.918392  \n",
       "887     30.000001     6.206237   15.189836  \n",
       "888     23.450001     5.493182   21.621247  \n",
       "889     30.000001     6.206237   20.212889  \n",
       "890      7.750001     2.906368   24.408103  \n",
       "\n",
       "[891 rows x 10 columns]"
      ]
     },
     "execution_count": 56,
     "metadata": {},
     "output_type": "execute_result"
    }
   ],
   "source": [
    "df"
   ]
  },
  {
   "cell_type": "code",
   "execution_count": 57,
   "id": "b6a6be3c-a3e7-4616-9b28-a4d3d5fc6e04",
   "metadata": {},
   "outputs": [
    {
     "data": {
      "image/png": "[encoded data removed]",
      "text/plain": [
       "<Figure size 640x480 with 1 Axes>"
      ]
     },
     "metadata": {},
     "output_type": "display_data"
    },
    {
     "data": {
      "image/png": "[encoded data removed]",
      "text/plain": [
       "<Figure size 640x480 with 1 Axes>"
      ]
     },
     "metadata": {},
     "output_type": "display_data"
    }
   ],
   "source": [
    "sns.histplot(df['Fare_boxcox'], kde=True)\n",
    "plt.title(\"Fare_boxcox Distribution\")\n",
    "plt.show()\n",
    "\n",
    "sns.histplot(df['Age_boxcox'], kde=True)\n",
    "plt.title(\"Age_boxcox Distribution\")\n",
    "plt.show()"
   ]
  },
  {
   "cell_type": "markdown",
   "id": "90097622-f82d-409d-aa17-8816ff612b90",
   "metadata": {},
   "source": [
    "**Encoding**"
   ]
  },
  {
   "cell_type": "code",
   "execution_count": 58,
   "id": "4f67e51a-1b4f-4adf-83ea-e2f213d03adc",
   "metadata": {},
   "outputs": [],
   "source": [
    "# Convert 'Sex' to binary (0 = male, 1 = female)\n",
    "df['Sex'] = df['Sex'].map({'male': 0, 'female': 1})\n",
    "\n",
    "# Convert 'Embarked' to numeric (One-Hot Encoding)\n",
    "df = pd.get_dummies(df, columns=['Embarked'], drop_first=True)"
   ]
  },
  {
   "cell_type": "markdown",
   "id": "4eb1f5ed-4a06-445c-b85d-cad9c789ecaf",
   "metadata": {},
   "source": [
    "**x & y**"
   ]
  },
  {
   "cell_type": "code",
   "execution_count": 59,
   "id": "92c25f08-2cad-453d-9ef1-9cde57d90203",
   "metadata": {},
   "outputs": [],
   "source": [
    "X = df.drop('Survived', axis = 1)\n",
    "y = df['Survived']"
   ]
  },
  {
   "cell_type": "code",
   "execution_count": 60,
   "id": "95189290-2ffd-412b-9345-3833cf6d3833",
   "metadata": {},
   "outputs": [
    {
     "data": {
      "text/plain": [
       "Index(['Pclass', 'Sex', 'HasCabin', 'FamilySize', 'IsAlone', 'Fare_shifted',\n",
       "       'Fare_boxcox', 'Age_boxcox', 'Embarked_Q', 'Embarked_S'],\n",
       "      dtype='object')"
      ]
     },
     "execution_count": 60,
     "metadata": {},
     "output_type": "execute_result"
    }
   ],
   "source": [
    "X.columns"
   ]
  },
  {
   "cell_type": "markdown",
   "id": "8166de57-40b4-42ae-b9fc-8ef6c18457ab",
   "metadata": {},
   "source": [
    "**Train_test_split**"
   ]
  },
  {
   "cell_type": "code",
   "execution_count": 65,
   "id": "fe0cda47-b219-4244-ab13-810b5937f95b",
   "metadata": {},
   "outputs": [],
   "source": [
    "from sklearn.model_selection import train_test_split\n",
    "X_train, X_test, y_train, y_test = train_test_split(X, y, test_size=0.2, random_state=42)"
   ]
  },
  {
   "cell_type": "markdown",
   "id": "89f72289-7f2c-4d95-b56f-301f4a94e092",
   "metadata": {},
   "source": [
    "**balancing Dataset**"
   ]
  },
  {
   "cell_type": "code",
   "execution_count": 69,
   "id": "6d059d4a-3fe0-4356-ba86-bf9f7e876a03",
   "metadata": {},
   "outputs": [],
   "source": [
    "# Applying SMOTE only on training set\n",
    "from imblearn.over_sampling import SMOTE\n",
    "sm = SMOTE(random_state=42)\n",
    "X_train_resampled, y_train_resampled = sm.fit_resample(X_train, y_train)"
   ]
  },
  {
   "cell_type": "markdown",
   "id": "b393fe9e-83ee-4d4b-a70a-19ae6d64f1c3",
   "metadata": {},
   "source": [
    "**Feature Scalling**"
   ]
  },
  {
   "cell_type": "code",
   "execution_count": 70,
   "id": "c4115105-046f-4db7-a1c0-45986b92885e",
   "metadata": {},
   "outputs": [],
   "source": [
    "# Scalling after SMOTE\n",
    "from sklearn.preprocessing import StandardScaler\n",
    "scaler = StandardScaler()\n",
    "X_train_resampled = scaler.fit_transform(X_train_resampled)\n",
    "X_test = scaler.transform(X_test)  # only transform, no fit"
   ]
  },
  {
   "cell_type": "code",
   "execution_count": 71,
   "id": "e34f44e6-e81c-4feb-8ef7-67b8bb03bd30",
   "metadata": {},
   "outputs": [],
   "source": [
    "# Convert back to DataFrame if needed\n",
    "X_train_resampled = pd.DataFrame(X_train_resampled, columns=X.columns)\n",
    "X_test = pd.DataFrame(X_test, columns=X.columns)\n",
    "y_train_resampled = pd.Series(y_train_resampled)\n"
   ]
  },
  {
   "cell_type": "markdown",
   "id": "7af54a48-2b56-457a-94aa-a9aac7ba18d9",
   "metadata": {},
   "source": [
    "**Modelling & Evalaution**"
   ]
  },
  {
   "cell_type": "markdown",
   "id": "237b9131-5eed-49d7-b223-6e49d83c9bb6",
   "metadata": {},
   "source": [
    "**1.Logistic Regression**"
   ]
  },
  {
   "cell_type": "code",
   "execution_count": 72,
   "id": "2cd0c0aa-79d5-4747-a51b-00647e538834",
   "metadata": {},
   "outputs": [
    {
     "name": "stdout",
     "output_type": "stream",
     "text": [
      "Train Accuracy : 0.7792792792792793\n",
      "Cross Validation Score : 0.7702151971053133\n"
     ]
    }
   ],
   "source": [
    "from sklearn.linear_model import LogisticRegression\n",
    "from sklearn.metrics import accuracy_score\n",
    "from sklearn.model_selection import cross_val_score\n",
    "\n",
    "\n",
    "log_model = LogisticRegression(max_iter=10000)\n",
    "log_model.fit(X_train_resampled, y_train_resampled)\n",
    "\n",
    "ypred_train = log_model.predict(X_train_resampled)\n",
    "\n",
    "print(\"Train Accuracy :\", accuracy_score(y_train_resampled, ypred_train))\n",
    "print(\"Cross Validation Score :\", cross_val_score(log_model, X_train_resampled, y_train_resampled, cv=5, scoring = \"accuracy\").mean())"
   ]
  },
  {
   "cell_type": "markdown",
   "id": "53c92401-8789-421f-8828-ca0b9388c13b",
   "metadata": {},
   "source": [
    "**2.KNN**"
   ]
  },
  {
   "cell_type": "code",
   "execution_count": 73,
   "id": "731ab4b7-77bf-4a4a-bf38-8842998497dc",
   "metadata": {},
   "outputs": [
    {
     "name": "stdout",
     "output_type": "stream",
     "text": [
      "Train accuracy: 0.8907657657657657\n",
      "Cross Validation Score: 0.7962038976702851\n"
     ]
    }
   ],
   "source": [
    "from sklearn.neighbors import KNeighborsClassifier\n",
    "estimator = KNeighborsClassifier()\n",
    "param_grid = {'n_neighbors':list(range(1, 30))}\n",
    "\n",
    "from sklearn.model_selection import GridSearchCV\n",
    "knn_grid = GridSearchCV(estimator, param_grid, scoring = 'accuracy', cv = 5)\n",
    "knn_grid.fit(X_train_resampled, y_train_resampled)\n",
    "\n",
    "knn_model = knn_grid.best_estimator_\n",
    "\n",
    "ypred_train = knn_model.predict(X_train_resampled)\n",
    "\n",
    "print(\"Train accuracy:\", accuracy_score(y_train_resampled, ypred_train))\n",
    "print(\"Cross Validation Score:\", cross_val_score(knn_model, X_train_resampled, y_train_resampled, cv = 5, scoring = 'accuracy').mean())"
   ]
  },
  {
   "cell_type": "markdown",
   "id": "b63c809c-4567-4330-a446-a8901c7f329d",
   "metadata": {},
   "source": [
    "**3.SVM**"
   ]
  },
  {
   "cell_type": "code",
   "execution_count": 74,
   "id": "3a298374-16b7-4b48-91f9-7d1461829b68",
   "metadata": {},
   "outputs": [
    {
     "name": "stdout",
     "output_type": "stream",
     "text": [
      "Train accuracy: 0.8175675675675675\n",
      "Cross Validation Score: 0.7870945216784104\n"
     ]
    }
   ],
   "source": [
    "from sklearn.svm import SVC\n",
    "\n",
    "estimator = SVC()\n",
    "param_grid = {'C':[0.01,0.1,1,10],'kernel':['linear','rbf','sigmoid','poly']}\n",
    "\n",
    "from sklearn.model_selection import GridSearchCV\n",
    "svm_grid = GridSearchCV(estimator, param_grid, scoring = 'accuracy', cv = 5)\n",
    "svm_grid.fit(X_train_resampled, y_train_resampled)\n",
    "\n",
    "svm_model = svm_grid.best_estimator_\n",
    "\n",
    "ypred_train = svm_model.predict(X_train_resampled)\n",
    "\n",
    "print(\"Train accuracy:\", accuracy_score(y_train_resampled, ypred_train))\n",
    "print(\"Cross Validation Score:\", cross_val_score(svm_model, X_train_resampled, y_train_resampled, cv = 5, scoring = 'accuracy').mean())"
   ]
  },
  {
   "cell_type": "markdown",
   "id": "5450f541-7088-4c85-a050-1ad39d9e7b4f",
   "metadata": {},
   "source": [
    "**4.Decision Tree Classifier**"
   ]
  },
  {
   "cell_type": "code",
   "execution_count": 75,
   "id": "38543b4e-2329-4ab0-8694-0e2d58fb4f06",
   "metadata": {},
   "outputs": [
    {
     "name": "stdout",
     "output_type": "stream",
     "text": [
      "Train Accuracy : 0.9605855855855856\n",
      "Cross Validation Score : 0.8130959182377959\n"
     ]
    }
   ],
   "source": [
    "from sklearn.tree import DecisionTreeClassifier\n",
    "from sklearn.model_selection import GridSearchCV, cross_val_score\n",
    "from sklearn.metrics import accuracy_score\n",
    "\n",
    "# Step 1: Grid Search\n",
    "estimator = DecisionTreeClassifier(random_state=42)\n",
    "param_grid = {'criterion': ['gini', 'entropy'], 'max_depth': list(range(1, 16))}\n",
    "dt_grid = GridSearchCV(estimator, param_grid, scoring='accuracy', cv=5)\n",
    "dt_grid.fit(X_train_resampled, y_train_resampled)\n",
    "\n",
    "# Step 2: Best Estimator\n",
    "dt = dt_grid.best_estimator_\n",
    "dt_fi = dt.feature_importances_\n",
    "\n",
    "# Step 3: Select important features\n",
    "index = [i for i, x in enumerate(dt_fi) if x > 0]\n",
    "\n",
    "# Step 4: Reduce X to important features\n",
    "X_train_dt = X_train_resampled.iloc[:, index]  # Use .iloc ONLY if X_resampled is a DataFrame\n",
    "\n",
    "# Step 5: Re-train on reduced feature set\n",
    "dt.fit(X_train_dt, y_train_resampled)\n",
    "\n",
    "# Step 6: Predict and Evaluate\n",
    "ypred_train = dt.predict(X_train_dt)\n",
    "\n",
    "#  Use y_resampled, not y_train\n",
    "print(\"Train Accuracy :\", accuracy_score(y_train_resampled, ypred_train))\n",
    "print(\"Cross Validation Score :\", cross_val_score(dt, X_train_dt, y_train_resampled, cv=5, scoring='accuracy').mean())\n"
   ]
  },
  {
   "cell_type": "markdown",
   "id": "eeb0886d-da1c-42a3-a8f6-35f945e5bd99",
   "metadata": {},
   "source": [
    "**5.Random Forest Classifier**"
   ]
  },
  {
   "cell_type": "code",
   "execution_count": 76,
   "id": "4152bbb3-7364-404b-9ef0-8348f246c8ed",
   "metadata": {},
   "outputs": [
    {
     "name": "stdout",
     "output_type": "stream",
     "text": [
      "Train Accuracy : 0.9819819819819819\n",
      "Cross Validation Score : 0.8299815908081001\n"
     ]
    }
   ],
   "source": [
    "from sklearn.ensemble import RandomForestClassifier\n",
    "# Grid Search\n",
    "estimator = RandomForestClassifier(random_state=42)\n",
    "param_grid = {'n_estimators': list(range(1, 51))}\n",
    "\n",
    "from sklearn.model_selection import GridSearchCV, cross_val_score\n",
    "rf_grid = GridSearchCV(estimator, param_grid, scoring='accuracy', cv=5)\n",
    "rf_grid.fit(X_train_resampled, y_train_resampled)\n",
    "\n",
    "# Best model and important features\n",
    "rf = rf_grid.best_estimator_\n",
    "rf_fi = rf.feature_importances_\n",
    "index = [i for i, x in enumerate(rf_fi) if x > 0]\n",
    "\n",
    "# Use X_resampled not X_train\n",
    "X_train_rf = X_train_resampled.iloc[:, index]\n",
    "\n",
    "# Train and evaluate\n",
    "rf.fit(X_train_rf, y_train_resampled)\n",
    "ypred_train = rf.predict(X_train_rf)\n",
    "\n",
    "print(\"Train Accuracy :\", accuracy_score(y_train_resampled, ypred_train))\n",
    "print(\"Cross Validation Score :\", cross_val_score(rf, X_train_rf, y_train_resampled, cv=5, scoring='accuracy').mean())\n"
   ]
  },
  {
   "cell_type": "markdown",
   "id": "63575b52-4caa-4e45-aa6b-5941a5671eeb",
   "metadata": {},
   "source": [
    "**6.AdaBoost Classifier**"
   ]
  },
  {
   "cell_type": "code",
   "execution_count": 77,
   "id": "6bfc611c-75ca-4ad9-9945-c2927f2884a3",
   "metadata": {},
   "outputs": [
    {
     "name": "stdout",
     "output_type": "stream",
     "text": [
      "Train Accuracy : 0.7376126126126126\n",
      "Cross Validation Score : 0.7634926680632261\n"
     ]
    }
   ],
   "source": [
    "from sklearn.ensemble import AdaBoostClassifier\n",
    "estimator = AdaBoostClassifier(random_state = 42)\n",
    "param_grid = {'n_estimators':list(range(1,51))}\n",
    "\n",
    "from sklearn.model_selection import GridSearchCV\n",
    "ab_grid = GridSearchCV(estimator, param_grid, scoring = 'accuracy', cv=5)\n",
    "ab_grid.fit(X_train_resampled, y_train_resampled)\n",
    "\n",
    "ab = ab_grid.best_estimator_\n",
    "ab_fi = ab.feature_importances_\n",
    "\n",
    "index = [i for i, x in enumerate(ab_fi) if x > 0]\n",
    "\n",
    "X_train_ab = X_train_resampled.iloc[:,index]\n",
    "\n",
    "ab.fit(X_train_ab, y_train_resampled)\n",
    "\n",
    "ypred_train = ab.predict(X_train_ab)\n",
    "\n",
    "print(\"Train Accuracy :\", accuracy_score(y_train_resampled, ypred_train))\n",
    "print(\"Cross Validation Score :\", cross_val_score(ab, X_train_ab, y_train_resampled, cv= 5, scoring = 'accuracy').mean())"
   ]
  },
  {
   "cell_type": "markdown",
   "id": "53f886a0-611f-48d3-a44d-43f3706c934b",
   "metadata": {},
   "source": [
    "**7.Gradient Boost classiier**"
   ]
  },
  {
   "cell_type": "code",
   "execution_count": 78,
   "id": "fe36b519-1312-4bb9-bd1c-94e07ac53981",
   "metadata": {},
   "outputs": [
    {
     "name": "stdout",
     "output_type": "stream",
     "text": [
      "Train Accuracy : 0.9065315315315315\n",
      "Cross Validation Score : 0.8209674347743287\n"
     ]
    }
   ],
   "source": [
    "from sklearn.ensemble import GradientBoostingClassifier\n",
    "estimator = GradientBoostingClassifier(random_state = 42)\n",
    "param_grid = {'n_estimators':list(range(1,20)), 'learning_rate':[0.1,0.2,0.3,0.4,0.5,0.6,0.7,0.8,0.9]}\n",
    "\n",
    "from sklearn.model_selection import GridSearchCV\n",
    "gb_grid = GridSearchCV(estimator, param_grid, scoring = 'accuracy', cv=5)\n",
    "gb_grid.fit(X_train_resampled, y_train_resampled)\n",
    "\n",
    "# best estimator & Feature importance\n",
    "gb = gb_grid.best_estimator_\n",
    "gb_fi = gb.feature_importances_\n",
    "\n",
    "index = [i for i, x in enumerate(gb_fi) if x > 0]\n",
    "\n",
    "X_train_gb = X_train_resampled.iloc[:, index]\n",
    "\n",
    "gb.fit(X_train_gb, y_train_resampled)\n",
    "\n",
    "ypred_train = gb.predict(X_train_gb)\n",
    "\n",
    "print(\"Train Accuracy :\", accuracy_score(y_train_resampled, ypred_train))\n",
    "print(\"Cross Validation Score :\", cross_val_score(gb, X_train_gb, y_train_resampled, cv= 5, scoring = 'accuracy').mean())"
   ]
  },
  {
   "cell_type": "markdown",
   "id": "81cdcdb6-81ec-4c07-8e28-02a49d3efd72",
   "metadata": {},
   "source": [
    "**XG Boost Classifier**"
   ]
  },
  {
   "cell_type": "code",
   "execution_count": 79,
   "id": "94de360c-5cb8-4c0e-bf5f-5bbef1d97ae0",
   "metadata": {},
   "outputs": [
    {
     "name": "stdout",
     "output_type": "stream",
     "text": [
      "Train Accuracy : 0.8851351351351351\n",
      "Cross Validation Score : 0.8310480543388561\n"
     ]
    }
   ],
   "source": [
    "from xgboost import XGBClassifier\n",
    "estimator = XGBClassifier(random_state = 42)\n",
    "param_grid = {'n_estimators':[10,20,30,40,100], 'max_depth':[3,4,5], 'gamma':[0,0.15,0.3,0.5,1]}\n",
    "\n",
    "from sklearn.model_selection import GridSearchCV\n",
    "xgb_grid = GridSearchCV(estimator, param_grid, scoring = 'accuracy', cv=5)\n",
    "xgb_grid.fit(X_train_resampled, y_train_resampled)\n",
    "\n",
    "xgb = xgb_grid.best_estimator_\n",
    "xgb_fi = xgb.feature_importances_\n",
    "\n",
    "index = [i for i, x in enumerate(xgb_fi) if x > 0]\n",
    "\n",
    "X_train_xgb = X_train_resampled.iloc[:, index]\n",
    "\n",
    "xgb.fit(X_train_xgb, y_train_resampled)\n",
    "\n",
    "ypred_train = xgb.predict(X_train_xgb)\n",
    "\n",
    "print(\"Train Accuracy :\", accuracy_score(y_train_resampled, ypred_train))\n",
    "print(\"Cross Validation Score :\", cross_val_score(xgb, X_train_xgb, y_train_resampled, cv= 5, scoring = 'accuracy').mean())"
   ]
  },
  {
   "cell_type": "markdown",
   "id": "9f90eee4-aa77-443e-a316-beb4ec91a4b4",
   "metadata": {},
   "source": [
    "**Save the model**"
   ]
  },
  {
   "cell_type": "code",
   "execution_count": 81,
   "id": "0d8fac95-1bdc-4efd-bf97-6e0e3bc12e25",
   "metadata": {},
   "outputs": [
    {
     "data": {
      "text/plain": [
       "['xgb_final_model999.pkl']"
      ]
     },
     "execution_count": 81,
     "metadata": {},
     "output_type": "execute_result"
    }
   ],
   "source": [
    "import joblib\n",
    "\n",
    "joblib.dump(xgb, 'xgb_final_model999.pkl')\n"
   ]
  },
  {
   "cell_type": "code",
   "execution_count": 82,
   "id": "3f07a963-15bc-4328-a985-12973dd30d25",
   "metadata": {},
   "outputs": [
    {
     "data": {
      "text/plain": [
       "['xgb_selected_features.pkl']"
      ]
     },
     "execution_count": 82,
     "metadata": {},
     "output_type": "execute_result"
    }
   ],
   "source": [
    "joblib.dump(index, 'xgb_selected_features.pkl')\n"
   ]
  }
 ],
 "metadata": {
  "kernelspec": {
   "display_name": "Python 3 (ipykernel)",
   "language": "python",
   "name": "python3"
  },
  "language_info": {
   "codemirror_mode": {
    "name": "ipython",
    "version": 3
   },
   "file_extension": ".py",
   "mimetype": "text/x-python",
   "name": "python",
   "nbconvert_exporter": "python",
   "pygments_lexer": "ipython3",
   "version": "3.13.5"
  }
 },
 "nbformat": 4,
 "nbformat_minor": 5
}
